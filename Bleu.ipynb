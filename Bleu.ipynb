{
 "cells": [
  {
   "cell_type": "code",
   "execution_count": 1,
   "metadata": {},
   "outputs": [],
   "source": [
    "import  nltk.translate.bleu_score as bleu"
   ]
  },
  {
   "cell_type": "code",
   "execution_count": 2,
   "metadata": {},
   "outputs": [],
   "source": [
    "reference_translation=['The cat is on the mat.'.split(),\n",
    "                       'There is a cat on the mat.'.split()\n",
    "                      ]\n",
    "candidate_translation_1='the the the mat on the the.'.split()\n",
    "candidate_translation_2='The cat is on the mat.'.split()"
   ]
  },
  {
   "cell_type": "code",
   "execution_count": 3,
   "metadata": {},
   "outputs": [
    {
     "name": "stdout",
     "output_type": "stream",
     "text": [
      "BLEU Score:  1.0\n"
     ]
    }
   ],
   "source": [
    "print(\"BLEU Score: \",bleu.sentence_bleu(reference_translation, candidate_translation_2))"
   ]
  },
  {
   "cell_type": "code",
   "execution_count": 4,
   "metadata": {},
   "outputs": [
    {
     "name": "stdout",
     "output_type": "stream",
     "text": [
      "BLEU Score:  6.968148412761692e-155\n"
     ]
    },
    {
     "name": "stderr",
     "output_type": "stream",
     "text": [
      "C:\\Users\\khandelwalr\\AppData\\Local\\Continuum\\anaconda3\\lib\\site-packages\\nltk\\translate\\bleu_score.py:523: UserWarning: \n",
      "The hypothesis contains 0 counts of 3-gram overlaps.\n",
      "Therefore the BLEU score evaluates to 0, independently of\n",
      "how many N-gram overlaps of lower order it contains.\n",
      "Consider using lower n-gram order or use SmoothingFunction()\n",
      "  warnings.warn(_msg)\n",
      "C:\\Users\\khandelwalr\\AppData\\Local\\Continuum\\anaconda3\\lib\\site-packages\\nltk\\translate\\bleu_score.py:523: UserWarning: \n",
      "The hypothesis contains 0 counts of 4-gram overlaps.\n",
      "Therefore the BLEU score evaluates to 0, independently of\n",
      "how many N-gram overlaps of lower order it contains.\n",
      "Consider using lower n-gram order or use SmoothingFunction()\n",
      "  warnings.warn(_msg)\n"
     ]
    }
   ],
   "source": [
    "print(\"BLEU Score: \",bleu.sentence_bleu(reference_translation, candidate_translation_1))"
   ]
  },
  {
   "cell_type": "code",
   "execution_count": 5,
   "metadata": {},
   "outputs": [],
   "source": [
    "import numpy as np\n",
    "from nltk import ngrams\n",
    "from collections import Counter"
   ]
  },
  {
   "cell_type": "code",
   "execution_count": 6,
   "metadata": {},
   "outputs": [],
   "source": [
    "def count_ngram(unigram, ngram=1):\n",
    "    \"\"\"\n",
    "    Return\n",
    "    -----\n",
    "    counter: dict, containing ngram as key, and count as value\n",
    "    \"\"\"\n",
    "    return Counter(ngrams(unigram, ngram))"
   ]
  },
  {
   "cell_type": "code",
   "execution_count": 8,
   "metadata": {},
   "outputs": [
    {
     "name": "stdout",
     "output_type": "stream",
     "text": [
      "unigram for translation Counter({('the',): 3, ('It',): 1, ('is',): 1, ('a',): 1, ('guide',): 1, ('to',): 1, ('action',): 1, ('which',): 1, ('ensures',): 1, ('that',): 1, ('military',): 1, ('always',): 1, ('obeys',): 1, ('commands',): 1, ('of',): 1, ('party.',): 1})\n",
      "Bigram for translation Counter({('It', 'is'): 1, ('is', 'a'): 1, ('a', 'guide'): 1, ('guide', 'to'): 1, ('to', 'action'): 1, ('action', 'which'): 1, ('which', 'ensures'): 1, ('ensures', 'that'): 1, ('that', 'the'): 1, ('the', 'military'): 1, ('military', 'always'): 1, ('always', 'obeys'): 1, ('obeys', 'the'): 1, ('the', 'commands'): 1, ('commands', 'of'): 1, ('of', 'the'): 1, ('the', 'party.'): 1})\n"
     ]
    }
   ],
   "source": [
    "translation = 'It is a guide to action which ensures that the military always obeys the commands of the party.'.split()\n",
    "list_of_references=[\n",
    "    'It is a guide to action that ensures that the military will forever heed Party commands.',\n",
    "    'It is the guiding principle which guarantees the military forces always being under the command of the Party.',\n",
    "    'It is the practical guide for the army always to heed the directions of the party.'\n",
    "\n",
    "]\n",
    "res = count_ngram(translation)\n",
    "print('unigram for translation {}'.format(res))\n",
    "res = count_ngram(translation, 2)\n",
    "print('Bigram for translation {}'.format(res))"
   ]
  },
  {
   "cell_type": "code",
   "execution_count": 11,
   "metadata": {},
   "outputs": [
    {
     "data": {
      "text/plain": [
       "Counter({('It',): 1,\n",
       "         ('is',): 1,\n",
       "         ('a',): 1,\n",
       "         ('guide',): 1,\n",
       "         ('to',): 1,\n",
       "         ('action',): 1,\n",
       "         ('which',): 1,\n",
       "         ('ensures',): 1,\n",
       "         ('that',): 1,\n",
       "         ('the',): 3,\n",
       "         ('military',): 1,\n",
       "         ('always',): 1,\n",
       "         ('obeys',): 1,\n",
       "         ('commands',): 1,\n",
       "         ('of',): 1,\n",
       "         ('party.',): 1})"
      ]
     },
     "execution_count": 11,
     "metadata": {},
     "output_type": "execute_result"
    }
   ],
   "source": [
    "res = dict()\n",
    "# retrieve translation unigram counts\n",
    "ct_translation_u = count_ngram(translation, ngram=1)\n",
    "ct_translation_u"
   ]
  },
  {
   "cell_type": "code",
   "execution_count": 12,
   "metadata": {},
   "outputs": [
    {
     "data": {
      "text/plain": [
       "Counter({('It', 'is'): 1,\n",
       "         ('is', 'a'): 1,\n",
       "         ('a', 'guide'): 1,\n",
       "         ('guide', 'to'): 1,\n",
       "         ('to', 'action'): 1,\n",
       "         ('action', 'which'): 1,\n",
       "         ('which', 'ensures'): 1,\n",
       "         ('ensures', 'that'): 1,\n",
       "         ('that', 'the'): 1,\n",
       "         ('the', 'military'): 1,\n",
       "         ('military', 'always'): 1,\n",
       "         ('always', 'obeys'): 1,\n",
       "         ('obeys', 'the'): 1,\n",
       "         ('the', 'commands'): 1,\n",
       "         ('commands', 'of'): 1,\n",
       "         ('of', 'the'): 1,\n",
       "         ('the', 'party.'): 1})"
      ]
     },
     "execution_count": 12,
     "metadata": {},
     "output_type": "execute_result"
    }
   ],
   "source": [
    "res = dict()\n",
    "# retrieve translation unigram counts\n",
    "ct_translation_b = count_ngram(translation, ngram=2)\n",
    "ct_translation_b"
   ]
  },
  {
   "cell_type": "code",
   "execution_count": 13,
   "metadata": {},
   "outputs": [],
   "source": [
    "def count_clip_ngram(translation_u, list_of_reference_u, ngram=1):\n",
    "    \"\"\"\n",
    "    Return\n",
    "   clipped counts of the ngram for candidate and reference translation\n",
    "    \n",
    "    \"\"\"\n",
    "    res = dict()\n",
    "    # retrieve hypothesis counts\n",
    "    ct_translation_u = count_ngram(translation_u, ngram=ngram)\n",
    "    \n",
    "    # retrieve translation candidate counts\n",
    "    for reference_u in list_of_reference_u:\n",
    "        ct_reference_u = count_ngram(reference_u, ngram=ngram)\n",
    "        for k in ct_reference_u:\n",
    "            if k in res:\n",
    "                res[k] = max(ct_reference_u[k], res[k])\n",
    "            else:\n",
    "                res[k] = ct_reference_u[k]\n",
    "                \n",
    "\n",
    "    return {\n",
    "        k: min(ct_translation_u.get(k, 0), res.get(k, 0)) \n",
    "        for k in ct_translation_u\n",
    "    }"
   ]
  },
  {
   "cell_type": "code",
   "execution_count": 15,
   "metadata": {},
   "outputs": [
    {
     "name": "stdout",
     "output_type": "stream",
     "text": [
      "Clipped counts for unigram between candidate and reference {('It',): 1, ('is',): 1, ('a',): 1, ('guide',): 1, ('to',): 1, ('action',): 1, ('which',): 1, ('ensures',): 1, ('that',): 1, ('the',): 3, ('military',): 1, ('always',): 1, ('obeys',): 0, ('commands',): 0, ('of',): 1, ('party.',): 1}\n"
     ]
    }
   ],
   "source": [
    "res = count_clip_ngram(\n",
    "    translation, \n",
    "    list(map(lambda ref: ref.split(), list_of_references))\n",
    ")\n",
    "print(\"Clipped counts for unigram between candidate and reference\", res)"
   ]
  },
  {
   "cell_type": "code",
   "execution_count": 16,
   "metadata": {},
   "outputs": [],
   "source": [
    "def modified_precision(translation, list_of_references, ngram=1):\n",
    "    \"\"\"\n",
    "    Return\n",
    "    modified precision = clipped counts/ no. of unclipped candidate n-gram\n",
    "    \n",
    "    \"\"\"\n",
    "    ct_clip = count_clip_ngram(translation, list_of_references, ngram)\n",
    "    ct = count_ngram(translation, ngram)\n",
    "    \n",
    "    return sum(ct_clip.values()) / float(max(sum(ct.values()), 1))"
   ]
  },
  {
   "cell_type": "code",
   "execution_count": 17,
   "metadata": {},
   "outputs": [
    {
     "name": "stdout",
     "output_type": "stream",
     "text": [
      "Modofied precision 0.05555555555555555\n"
     ]
    }
   ],
   "source": [
    "res_mp= modified_precision(translation, list_of_references)\n",
    "print(\"Modofied precision\", res_mp)"
   ]
  },
  {
   "cell_type": "code",
   "execution_count": 18,
   "metadata": {},
   "outputs": [],
   "source": [
    "def closest_ref_length(translation_u, list_of_reference_u):\n",
    "    \"\"\"\n",
    "    determine the closest reference length from translation length\n",
    "    \"\"\"\n",
    "    len_trans = len(translation_u)\n",
    "    closest_ref_idx = np.argmin([abs(len(x) - len_trans) for x in list_of_reference_u])\n",
    "    return len(list_of_reference_u[closest_ref_idx])"
   ]
  },
  {
   "cell_type": "code",
   "execution_count": 19,
   "metadata": {},
   "outputs": [
    {
     "data": {
      "text/plain": [
       "82"
      ]
     },
     "execution_count": 19,
     "metadata": {},
     "output_type": "execute_result"
    }
   ],
   "source": [
    "ref_length = closest_ref_length(translation, list_of_references)\n",
    "ref_length"
   ]
  },
  {
   "cell_type": "code",
   "execution_count": 20,
   "metadata": {},
   "outputs": [],
   "source": [
    "def brevity_penalty(translation_u, list_of_reference_u):\n",
    "    \"\"\"\n",
    "    \"\"\"\n",
    "    c = len(translation_u)\n",
    "    r = closest_ref_length(translation_u, list_of_reference_u)\n",
    "    \n",
    "    if c > r:\n",
    "        return 1\n",
    "    else:\n",
    "        return np.exp(1 - float(r)/c)"
   ]
  },
  {
   "cell_type": "code",
   "execution_count": 22,
   "metadata": {},
   "outputs": [
    {
     "name": "stdout",
     "output_type": "stream",
     "text": [
      "BP 0.028565500784550377\n"
     ]
    }
   ],
   "source": [
    "print(\"BP\", brevity_penalty(translation, list_of_references))"
   ]
  },
  {
   "cell_type": "code",
   "execution_count": 23,
   "metadata": {},
   "outputs": [],
   "source": [
    "def bleu_score(translation_u, list_of_reference_u, W=[0.25 for x in range(4)]):\n",
    "    bp = brevity_penalty(translation_u, list_of_reference_u)\n",
    "    modified_precisions = [\n",
    "        modified_precision(translation_u, list_of_reference_u, ngram=ngram)\n",
    "        for ngram, _ in enumerate(W,start=1)\n",
    "    ]\n",
    "    score = np.sum([\n",
    "        wn * np.log(modified_precisions[i]) if modified_precisions[i] != 0 else 0 for i, wn in enumerate(W)\n",
    "    ])\n",
    "    \n",
    "    return bp * np.exp(score)"
   ]
  },
  {
   "cell_type": "code",
   "execution_count": 24,
   "metadata": {},
   "outputs": [
    {
     "name": "stdout",
     "output_type": "stream",
     "text": [
      "BLEU 0.013868315585598298\n"
     ]
    }
   ],
   "source": [
    "print(\"BLEU\", bleu_score(translation, list_of_references))"
   ]
  },
  {
   "cell_type": "code",
   "execution_count": null,
   "metadata": {},
   "outputs": [],
   "source": []
  }
 ],
 "metadata": {
  "kernelspec": {
   "display_name": "Python 3",
   "language": "python",
   "name": "python3"
  },
  "language_info": {
   "codemirror_mode": {
    "name": "ipython",
    "version": 3
   },
   "file_extension": ".py",
   "mimetype": "text/x-python",
   "name": "python",
   "nbconvert_exporter": "python",
   "pygments_lexer": "ipython3",
   "version": "3.7.3"
  }
 },
 "nbformat": 4,
 "nbformat_minor": 2
}
